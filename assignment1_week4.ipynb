{
 "cells": [
  {
   "cell_type": "code",
   "execution_count": null,
   "id": "42c55164-a2f8-481a-ab31-b0cbd0780a95",
   "metadata": {},
   "outputs": [],
   "source": [
    "# Q1. Explain Class and Object with respect to Object-Oriented Programming. Give a suitable example."
   ]
  },
  {
   "cell_type": "code",
   "execution_count": null,
   "id": "388beeb4-9b04-4fa7-a398-26711e0f8fc0",
   "metadata": {},
   "outputs": [],
   "source": [
    "##solution1:"
   ]
  },
  {
   "cell_type": "code",
   "execution_count": null,
   "id": "5f8ef4e4-e56e-480b-8e14-b0a66425ec26",
   "metadata": {},
   "outputs": [],
   "source": [
    "# A class is considered as a blueprint of objects. We can think of the class as a sketch (prototype) of a house. \n",
    "# It contains all the details about the floors, doors, windows, etc. Based on these descriptions we build the house. \n",
    "# House is the object.\n",
    "\n",
    "# Since many houses can be made from the same description, we can create many objects from a class."
   ]
  },
  {
   "cell_type": "code",
   "execution_count": null,
   "id": "57dea900-c2b5-4410-884f-88397cdc5c85",
   "metadata": {},
   "outputs": [],
   "source": [
    "#examples: \n"
   ]
  },
  {
   "cell_type": "code",
   "execution_count": 5,
   "id": "5e0ba756-81ab-4029-9b11-1e8f9b036fc7",
   "metadata": {},
   "outputs": [],
   "source": [
    "class bike:\n",
    "    def name(self):\n",
    "        print(\"This is a superfast bike!!\")"
   ]
  },
  {
   "cell_type": "code",
   "execution_count": 7,
   "id": "d3f329b6-3c86-4446-8900-8da7fc11a627",
   "metadata": {},
   "outputs": [],
   "source": [
    "royal_enfield = bike()"
   ]
  },
  {
   "cell_type": "code",
   "execution_count": 9,
   "id": "0a12ed4d-88ac-4779-9647-edb522333e0b",
   "metadata": {},
   "outputs": [
    {
     "name": "stdout",
     "output_type": "stream",
     "text": [
      "This is a superfast bike!!\n"
     ]
    }
   ],
   "source": [
    "royal_enfield.name()"
   ]
  },
  {
   "cell_type": "code",
   "execution_count": null,
   "id": "5ba94a42-2f92-47e9-bbaa-ae5d79d65e73",
   "metadata": {},
   "outputs": [],
   "source": [
    "# An object is called an instance of a class. "
   ]
  },
  {
   "cell_type": "code",
   "execution_count": 11,
   "id": "f6a5df99-d2ec-4f8a-ae13-796af69e68c7",
   "metadata": {},
   "outputs": [],
   "source": [
    "class Bike:\n",
    "    def __init__(self, Brand_colour, speed):\n",
    "        self.Brand_colour = Brand_colour\n",
    "        self.speed = speed\n",
    "    def return_bike_details(self):\n",
    "        return self.Brand_colour,self.speed"
   ]
  },
  {
   "cell_type": "code",
   "execution_count": 14,
   "id": "c9d819c6-6c4b-41c2-9515-6bbd2889ff3d",
   "metadata": {},
   "outputs": [],
   "source": [
    "Royal_Enfield = Bike(\"blue\", 120)"
   ]
  },
  {
   "cell_type": "code",
   "execution_count": 16,
   "id": "f6237304-b035-4496-999e-cc7d9b011865",
   "metadata": {},
   "outputs": [
    {
     "data": {
      "text/plain": [
       "120"
      ]
     },
     "execution_count": 16,
     "metadata": {},
     "output_type": "execute_result"
    }
   ],
   "source": [
    "Royal_Enfield.speed"
   ]
  },
  {
   "cell_type": "code",
   "execution_count": 17,
   "id": "63e8a5b1-2e64-4ab3-86d3-628f92316831",
   "metadata": {},
   "outputs": [
    {
     "data": {
      "text/plain": [
       "'blue'"
      ]
     },
     "execution_count": 17,
     "metadata": {},
     "output_type": "execute_result"
    }
   ],
   "source": [
    "Royal_Enfield.Brand_colour"
   ]
  },
  {
   "cell_type": "code",
   "execution_count": null,
   "id": "ed09f7cf-d55a-4b54-9cf0-ff007d3c9291",
   "metadata": {},
   "outputs": [],
   "source": []
  },
  {
   "cell_type": "code",
   "execution_count": null,
   "id": "db801b54-dc62-4f88-8e15-5891a74a3e8b",
   "metadata": {},
   "outputs": [],
   "source": []
  },
  {
   "cell_type": "code",
   "execution_count": null,
   "id": "ecb0b9b8-df96-4bd6-8480-2872f9cfd2c1",
   "metadata": {},
   "outputs": [],
   "source": [
    "# Q2. Name the four pillars of OOPs."
   ]
  },
  {
   "cell_type": "code",
   "execution_count": null,
   "id": "17135249-b680-4e15-bf70-47b9bb859731",
   "metadata": {},
   "outputs": [],
   "source": [
    "##solution2:  1. polymorphism 2. encapsulation 3. inheritance 4. abstraction"
   ]
  },
  {
   "cell_type": "code",
   "execution_count": null,
   "id": "0715b523-485d-4eec-b3b2-5111091a70e2",
   "metadata": {},
   "outputs": [],
   "source": [
    "# 1. polymorphism"
   ]
  },
  {
   "cell_type": "code",
   "execution_count": 2,
   "id": "0b9c877a-67da-4300-b3c7-f9fed8c4d38e",
   "metadata": {},
   "outputs": [],
   "source": [
    "class vote1:\n",
    "    \n",
    "    def date(self):\n",
    "        print(\"the first polling date is 02/08/2023\")\n",
    "        "
   ]
  },
  {
   "cell_type": "code",
   "execution_count": 3,
   "id": "b927e21e-e449-4171-b8b1-a4e3ee7a4f5f",
   "metadata": {},
   "outputs": [],
   "source": [
    "class vote2:\n",
    "    \n",
    "    def date(self):\n",
    "        print(\"the second polling date is 10/08/2023\")\n",
    "        "
   ]
  },
  {
   "cell_type": "code",
   "execution_count": 5,
   "id": "dedaa71a-b738-4e82-a5c0-a53f449b1ce8",
   "metadata": {},
   "outputs": [],
   "source": [
    "def polling_dates(date_obj):\n",
    "    for i in date_obj:\n",
    "        i.date()"
   ]
  },
  {
   "cell_type": "code",
   "execution_count": 6,
   "id": "85fe0b41-38db-4d8b-90cb-889d9b2006a7",
   "metadata": {},
   "outputs": [],
   "source": [
    "vote1 = vote1()"
   ]
  },
  {
   "cell_type": "code",
   "execution_count": 7,
   "id": "69115771-79f7-431d-a067-6169df3c268c",
   "metadata": {},
   "outputs": [],
   "source": [
    "vote2 = vote2()"
   ]
  },
  {
   "cell_type": "code",
   "execution_count": 8,
   "id": "8292c760-baaa-41fc-b9f2-eca60887f468",
   "metadata": {},
   "outputs": [],
   "source": [
    "date_obj = [vote1, vote2]"
   ]
  },
  {
   "cell_type": "code",
   "execution_count": 9,
   "id": "2ca4ba7a-286c-4c2f-bddd-6e95c9a40dc5",
   "metadata": {},
   "outputs": [
    {
     "name": "stdout",
     "output_type": "stream",
     "text": [
      "the first polling date is 02/08/2023\n",
      "the second polling date is 10/08/2023\n"
     ]
    }
   ],
   "source": [
    "polling_dates(date_obj)"
   ]
  },
  {
   "cell_type": "code",
   "execution_count": null,
   "id": "edd96d2a-31ca-4934-a431-5e85dd0c3dc4",
   "metadata": {},
   "outputs": [],
   "source": [
    "# 2. encapsulation"
   ]
  },
  {
   "cell_type": "code",
   "execution_count": 14,
   "id": "6b4995f1-2a4f-4196-9abf-9eccf649c085",
   "metadata": {},
   "outputs": [],
   "source": [
    "class exam_result:\n",
    "    \n",
    "    def __init__(self, name, roll_no, exam_marks):\n",
    "        self.__name = name\n",
    "        self.__roll_no = roll_no\n",
    "        self.__exam_marks = exam_marks\n",
    "        \n",
    "\n",
    "    def set_exam_marks(self,exam_marks):\n",
    "        self.__exam_marks = \"FAIL\" if exam_marks < 30 else exam_marks\n",
    "        \n",
    "    def get_exam_marks(self):\n",
    "        return self.__exam_marks\n",
    "        "
   ]
  },
  {
   "cell_type": "code",
   "execution_count": 15,
   "id": "d958dc4a-10c1-449d-a282-64c420981e94",
   "metadata": {},
   "outputs": [],
   "source": [
    "first = exam_result(\"Monoliza Datta\",36,78)"
   ]
  },
  {
   "cell_type": "code",
   "execution_count": 7,
   "id": "ec444035-4f08-4bca-bb0f-bb78001f2061",
   "metadata": {},
   "outputs": [
    {
     "data": {
      "text/plain": [
       "36"
      ]
     },
     "execution_count": 7,
     "metadata": {},
     "output_type": "execute_result"
    }
   ],
   "source": [
    "first._exam_result__roll_no"
   ]
  },
  {
   "cell_type": "code",
   "execution_count": 16,
   "id": "91a6f71f-27a2-4e32-8cad-db9ad98a62b6",
   "metadata": {},
   "outputs": [
    {
     "data": {
      "text/plain": [
       "78"
      ]
     },
     "execution_count": 16,
     "metadata": {},
     "output_type": "execute_result"
    }
   ],
   "source": [
    "first._exam_result__exam_marks"
   ]
  },
  {
   "cell_type": "code",
   "execution_count": 17,
   "id": "12570a37-c4db-48ed-9f9e-24ec12be95c9",
   "metadata": {},
   "outputs": [],
   "source": [
    "first.set_exam_marks(78)"
   ]
  },
  {
   "cell_type": "code",
   "execution_count": 18,
   "id": "7e83650b-1087-47d5-8dd2-90e0d58757aa",
   "metadata": {},
   "outputs": [
    {
     "data": {
      "text/plain": [
       "78"
      ]
     },
     "execution_count": 18,
     "metadata": {},
     "output_type": "execute_result"
    }
   ],
   "source": [
    "first.get_exam_marks()"
   ]
  },
  {
   "cell_type": "code",
   "execution_count": 19,
   "id": "bcaeee36-cad9-4e03-9f35-1656c8f2867d",
   "metadata": {},
   "outputs": [],
   "source": [
    "first.set_exam_marks(23)"
   ]
  },
  {
   "cell_type": "code",
   "execution_count": 20,
   "id": "6052bf02-93bf-4e5f-b3de-235b99b9fab5",
   "metadata": {},
   "outputs": [
    {
     "data": {
      "text/plain": [
       "'FAIL'"
      ]
     },
     "execution_count": 20,
     "metadata": {},
     "output_type": "execute_result"
    }
   ],
   "source": [
    "first.get_exam_marks()"
   ]
  },
  {
   "cell_type": "code",
   "execution_count": null,
   "id": "df33eedf-8e89-4a67-b4f2-f5cc8e7f6a77",
   "metadata": {},
   "outputs": [],
   "source": [
    "# 3. inheritance"
   ]
  },
  {
   "cell_type": "code",
   "execution_count": 32,
   "id": "fe392483-ca1e-40be-b862-7f49197b353d",
   "metadata": {},
   "outputs": [],
   "source": [
    "class child_company1:\n",
    "    def BINGO(self):\n",
    "        return \"Under ITC1\""
   ]
  },
  {
   "cell_type": "code",
   "execution_count": 33,
   "id": "a6c09534-9f1a-47e6-8ba0-ecc4b9cbb64a",
   "metadata": {},
   "outputs": [],
   "source": [
    "class child_company2:\n",
    "    def YIPPE(self):\n",
    "        return \"Under ITC2\""
   ]
  },
  {
   "cell_type": "code",
   "execution_count": 34,
   "id": "067150d5-1430-449b-ad2b-c415102d48d2",
   "metadata": {},
   "outputs": [],
   "source": [
    "class child_company3:\n",
    "    def MOMS_MAGIC(self):\n",
    "        return \"under ITC3\""
   ]
  },
  {
   "cell_type": "code",
   "execution_count": 35,
   "id": "26c1091f-d56a-498d-8131-80c473f779ad",
   "metadata": {},
   "outputs": [],
   "source": [
    "class PARENT_company(child_company1,child_company2,child_company3):\n",
    "    pass"
   ]
  },
  {
   "cell_type": "code",
   "execution_count": 36,
   "id": "664d8e52-531f-433e-8566-a8bce1651211",
   "metadata": {},
   "outputs": [],
   "source": [
    "ITC = PARENT_company()"
   ]
  },
  {
   "cell_type": "code",
   "execution_count": 38,
   "id": "2f903772-dbf6-4c64-95e3-0e8bb5ce2697",
   "metadata": {},
   "outputs": [
    {
     "data": {
      "text/plain": [
       "'Under ITC1'"
      ]
     },
     "execution_count": 38,
     "metadata": {},
     "output_type": "execute_result"
    }
   ],
   "source": [
    "ITC.BINGO()"
   ]
  },
  {
   "cell_type": "code",
   "execution_count": 39,
   "id": "e41f54e9-024b-44cb-9bb2-9941d3a63baf",
   "metadata": {},
   "outputs": [
    {
     "data": {
      "text/plain": [
       "'under ITC3'"
      ]
     },
     "execution_count": 39,
     "metadata": {},
     "output_type": "execute_result"
    }
   ],
   "source": [
    "ITC.MOMS_MAGIC()"
   ]
  },
  {
   "cell_type": "code",
   "execution_count": 40,
   "id": "f529bab0-f7f3-4c50-8c9c-918b59f1ee24",
   "metadata": {},
   "outputs": [
    {
     "data": {
      "text/plain": [
       "'Under ITC2'"
      ]
     },
     "execution_count": 40,
     "metadata": {},
     "output_type": "execute_result"
    }
   ],
   "source": [
    "ITC.YIPPE()"
   ]
  },
  {
   "cell_type": "code",
   "execution_count": null,
   "id": "76229e7b-961e-4177-9e4c-f15b9e96f4f3",
   "metadata": {},
   "outputs": [],
   "source": [
    "# 4. abstraction"
   ]
  },
  {
   "cell_type": "code",
   "execution_count": 48,
   "id": "c1d0db86-6d15-46fd-a516-7dc58b4b0dea",
   "metadata": {},
   "outputs": [],
   "source": [
    "import abc\n",
    "\n",
    "class animal:\n",
    "    def move(self):\n",
    "        pass\n",
    "\n",
    "class humans(animal):\n",
    "    def move(self):\n",
    "        print (\"I can walk and run\")\n",
    "        \n",
    "class snake(animal):\n",
    "    def move(self):\n",
    "        print(\"I can crawl\")\n",
    "        \n",
    "class bird(animal):\n",
    "    def move(self):\n",
    "        print(\"I can fly\")"
   ]
  },
  {
   "cell_type": "code",
   "execution_count": 49,
   "id": "97503da1-0892-4983-a835-b1584f575a3e",
   "metadata": {},
   "outputs": [],
   "source": [
    "S = snake()"
   ]
  },
  {
   "cell_type": "code",
   "execution_count": 50,
   "id": "26b6af89-0bda-470b-a150-e755b34c329a",
   "metadata": {},
   "outputs": [
    {
     "name": "stdout",
     "output_type": "stream",
     "text": [
      "I can crawl\n"
     ]
    }
   ],
   "source": [
    "S.move()"
   ]
  },
  {
   "cell_type": "code",
   "execution_count": 51,
   "id": "5d2f7740-b603-49f2-8b19-128e6319a2c9",
   "metadata": {},
   "outputs": [],
   "source": [
    "B = bird()"
   ]
  },
  {
   "cell_type": "code",
   "execution_count": 52,
   "id": "8b0d5ebb-c6c1-4046-af4f-c2fde048e647",
   "metadata": {},
   "outputs": [
    {
     "name": "stdout",
     "output_type": "stream",
     "text": [
      "I can fly\n"
     ]
    }
   ],
   "source": [
    "B.move()"
   ]
  },
  {
   "cell_type": "code",
   "execution_count": 54,
   "id": "8dc2cd12-6e15-4a2c-9e3d-b0f6c71134c6",
   "metadata": {},
   "outputs": [],
   "source": [
    "H = humans()"
   ]
  },
  {
   "cell_type": "code",
   "execution_count": 55,
   "id": "d7a7e85d-1a93-4a54-8777-107849d7490c",
   "metadata": {},
   "outputs": [
    {
     "name": "stdout",
     "output_type": "stream",
     "text": [
      "I can walk and run\n"
     ]
    }
   ],
   "source": [
    "H.move()"
   ]
  },
  {
   "cell_type": "code",
   "execution_count": null,
   "id": "83f7f19a-9cd1-40c0-8c14-0df5e14a17da",
   "metadata": {},
   "outputs": [],
   "source": []
  },
  {
   "cell_type": "code",
   "execution_count": null,
   "id": "b9d9caf0-0c69-4b93-ba73-4d5df21b9b53",
   "metadata": {},
   "outputs": [],
   "source": []
  },
  {
   "cell_type": "code",
   "execution_count": null,
   "id": "f2f02d20-dc9c-4d0b-b44c-c08413964032",
   "metadata": {},
   "outputs": [],
   "source": [
    "# Q3. Explain why the __init__() function is used. Give a suitable example."
   ]
  },
  {
   "cell_type": "code",
   "execution_count": null,
   "id": "db4d297a-4724-4872-a972-136d9fae66d3",
   "metadata": {},
   "outputs": [],
   "source": [
    "##solution:"
   ]
  },
  {
   "cell_type": "code",
   "execution_count": null,
   "id": "66a5d2aa-b9fb-49fb-91b8-cb7437dec56a",
   "metadata": {},
   "outputs": [],
   "source": [
    "# The __init__ function is called every time an object is created from a class.\n",
    "# The __init__ method lets the class initialize the object's attributes and serves no other purpose. \n",
    "# It is only used within classes."
   ]
  },
  {
   "cell_type": "code",
   "execution_count": 58,
   "id": "66eecb00-35bb-4ac5-9ef3-f49fcf89aacb",
   "metadata": {},
   "outputs": [
    {
     "name": "stdout",
     "output_type": "stream",
     "text": [
      "Tuhin\n",
      "21\n"
     ]
    }
   ],
   "source": [
    "class Candidate:\n",
    "    def __init__(self, name, age):\n",
    "        self.name = name\n",
    "        self.age = age\n",
    "\n",
    "C1 = Candidate(\"Tuhin\", 21)\n",
    "\n",
    "print(C1.name)\n",
    "print(C1.age)"
   ]
  },
  {
   "cell_type": "code",
   "execution_count": null,
   "id": "16380177-e174-4335-8307-bac52ad98497",
   "metadata": {},
   "outputs": [],
   "source": []
  },
  {
   "cell_type": "code",
   "execution_count": null,
   "id": "e3aa6e25-de3e-4f0b-99c3-fb61c4a29b10",
   "metadata": {},
   "outputs": [],
   "source": []
  },
  {
   "cell_type": "code",
   "execution_count": null,
   "id": "d1f35937-d939-4e4a-a82a-508b8f28022b",
   "metadata": {},
   "outputs": [],
   "source": [
    "# Q4. Why self is used in OOPs?"
   ]
  },
  {
   "cell_type": "code",
   "execution_count": null,
   "id": "c4f63d55-d825-4110-bdb8-e5e08f9fb1d8",
   "metadata": {},
   "outputs": [],
   "source": [
    "##solution:"
   ]
  },
  {
   "cell_type": "code",
   "execution_count": null,
   "id": "d25ab259-15c2-495f-96ca-8e712f3166e4",
   "metadata": {},
   "outputs": [],
   "source": [
    "# The self variable is used to represent the instance of the class which is often used in object-oriented programming.\n",
    "# It works as a reference to the object. \n",
    "# Python uses the self parameter to refer to instance attributes and methods of the class."
   ]
  },
  {
   "cell_type": "code",
   "execution_count": 100,
   "id": "b6870f15-0acd-41c2-ac7e-18520e4085c5",
   "metadata": {},
   "outputs": [],
   "source": [
    "class Monoliza:\n",
    "    def food(self):\n",
    "        return \"She loves food\""
   ]
  },
  {
   "cell_type": "code",
   "execution_count": 105,
   "id": "ff8787b4-835d-4b47-a12c-3ede0f6afa93",
   "metadata": {},
   "outputs": [],
   "source": [
    "M = Monoliza()"
   ]
  },
  {
   "cell_type": "code",
   "execution_count": 106,
   "id": "bdbe90b8-8fce-4a9b-a039-a92d4a79f68d",
   "metadata": {},
   "outputs": [],
   "source": [
    "def food_love(M):\n",
    "    for i in M:\n",
    "        i.food()"
   ]
  },
  {
   "cell_type": "code",
   "execution_count": 107,
   "id": "c43cef59-f316-4ef4-9f8d-8a39a397a6b8",
   "metadata": {},
   "outputs": [
    {
     "data": {
      "text/plain": [
       "'She loves food'"
      ]
     },
     "execution_count": 107,
     "metadata": {},
     "output_type": "execute_result"
    }
   ],
   "source": [
    "M.food()"
   ]
  },
  {
   "cell_type": "code",
   "execution_count": null,
   "id": "1dcf481c-cbc2-4f50-831e-a223af590d13",
   "metadata": {},
   "outputs": [],
   "source": []
  },
  {
   "cell_type": "code",
   "execution_count": null,
   "id": "eb84d31e-f887-4572-a030-9f325fa85a79",
   "metadata": {},
   "outputs": [],
   "source": []
  },
  {
   "cell_type": "code",
   "execution_count": null,
   "id": "c0194b91-e750-4812-b4f0-ec6781a71b46",
   "metadata": {},
   "outputs": [],
   "source": [
    "# Q5. What is inheritance? Give an example for each type of inheritance."
   ]
  },
  {
   "cell_type": "code",
   "execution_count": null,
   "id": "e210072d-f457-460a-b966-2a0945fe4a8d",
   "metadata": {},
   "outputs": [],
   "source": [
    "##solution:"
   ]
  },
  {
   "cell_type": "code",
   "execution_count": null,
   "id": "afb3d544-76bb-451c-95e3-358eccd3782a",
   "metadata": {},
   "outputs": [],
   "source": [
    "# Inheritance allows us to define a class that inherits all the methods and properties from another class.\n",
    "# Parent class is the class being inherited from, also called base class.\n",
    "# Child class is the class that inherits from another class, also called derived class."
   ]
  },
  {
   "cell_type": "code",
   "execution_count": null,
   "id": "dc69e2dd-49fc-46c1-af1c-b1ac4a129fcc",
   "metadata": {},
   "outputs": [],
   "source": [
    "# Types of Inheritance depend upon the number of child and parent classes involved. There are four types of inheritance in Python:"
   ]
  },
  {
   "cell_type": "code",
   "execution_count": null,
   "id": "62bd5655-c6a3-4001-97b0-400a557bd1aa",
   "metadata": {},
   "outputs": [],
   "source": [
    "# Single inheritance enables a derived class to inherit properties from a single parent class, \n",
    "# thus enabling code reusability and the addition of new features to existing code."
   ]
  },
  {
   "cell_type": "code",
   "execution_count": 109,
   "id": "e2ee2246-d8f7-4b26-9fec-6b64f76409ae",
   "metadata": {},
   "outputs": [],
   "source": [
    "class father:\n",
    "    def Humanyun(self):\n",
    "        return \"I'm the father\""
   ]
  },
  {
   "cell_type": "code",
   "execution_count": 111,
   "id": "d23ff170-c89e-415f-9571-a8646f99e813",
   "metadata": {},
   "outputs": [],
   "source": [
    "class son(father):\n",
    "    def Akbar(self):\n",
    "        return \"I'm the son \""
   ]
  },
  {
   "cell_type": "code",
   "execution_count": 112,
   "id": "b78fc426-4853-46b2-8dea-b786533dd5a9",
   "metadata": {},
   "outputs": [],
   "source": [
    "emperor_prince = son()"
   ]
  },
  {
   "cell_type": "code",
   "execution_count": 113,
   "id": "6de23d61-1254-4ab9-8557-49441835afa1",
   "metadata": {},
   "outputs": [
    {
     "data": {
      "text/plain": [
       "\"I'm the father\""
      ]
     },
     "execution_count": 113,
     "metadata": {},
     "output_type": "execute_result"
    }
   ],
   "source": [
    "emperor_prince.Humanyun()"
   ]
  },
  {
   "cell_type": "code",
   "execution_count": 114,
   "id": "ab3ed614-c776-48e2-81ae-02cfd06a0d3f",
   "metadata": {},
   "outputs": [
    {
     "data": {
      "text/plain": [
       "\"I'm the son \""
      ]
     },
     "execution_count": 114,
     "metadata": {},
     "output_type": "execute_result"
    }
   ],
   "source": [
    "emperor_prince.Akbar()"
   ]
  },
  {
   "cell_type": "code",
   "execution_count": null,
   "id": "39b8a5c1-37be-4958-b7bc-7cc74113dbaf",
   "metadata": {},
   "outputs": [],
   "source": [
    "# When a class can be derived from more than one base class this type of inheritance is called multiple inheritances. \n",
    "# In multiple inheritances, all the features of the base classes are inherited into the derived class. "
   ]
  },
  {
   "cell_type": "code",
   "execution_count": 116,
   "id": "a260f73f-3878-49ab-b6f8-e041bd7960ee",
   "metadata": {},
   "outputs": [],
   "source": [
    "class Mother:\n",
    "    mothername = \"\"\n",
    "\n",
    "    def mother(self):\n",
    "        print(self.mothername)\n",
    "\n",
    "class Father:\n",
    "    fathername = \"\"\n",
    "\n",
    "    def father(self):\n",
    "        print(self.fathername)\n",
    "\n",
    "\n",
    "class Son(Mother, Father):\n",
    "    def parents(self):\n",
    "        print(\"Father :\", self.fathername)\n",
    "        print(\"Mother :\", self.mothername)"
   ]
  },
  {
   "cell_type": "code",
   "execution_count": 118,
   "id": "fb74227b-d871-477a-8825-4ff6bc6f1eb7",
   "metadata": {},
   "outputs": [],
   "source": [
    "s1 = Son()"
   ]
  },
  {
   "cell_type": "code",
   "execution_count": 122,
   "id": "6ff639a0-b3e0-418d-af0a-8efe38e7ba81",
   "metadata": {},
   "outputs": [],
   "source": [
    "s1.fathername = \"SHIVA\""
   ]
  },
  {
   "cell_type": "code",
   "execution_count": 123,
   "id": "47c4362d-f360-4076-9a9f-0afca34e4bc2",
   "metadata": {},
   "outputs": [],
   "source": [
    "s1.mothername = \"DURGA\""
   ]
  },
  {
   "cell_type": "code",
   "execution_count": 124,
   "id": "270e11dc-fd0b-4c7b-b0ac-972f94758c75",
   "metadata": {},
   "outputs": [
    {
     "name": "stdout",
     "output_type": "stream",
     "text": [
      "Father : SHIVA\n",
      "Mother : DURGA\n"
     ]
    }
   ],
   "source": [
    "s1.parents()"
   ]
  },
  {
   "cell_type": "code",
   "execution_count": null,
   "id": "87be2784-f890-494a-8721-4cd4f534e2a4",
   "metadata": {},
   "outputs": [],
   "source": [
    "# In multilevel inheritance, features of the base class and the derived class are further inherited into the new derived class. \n",
    "# This is similar to a relationship representing a child and a grandfather. \n"
   ]
  },
  {
   "cell_type": "code",
   "execution_count": 4,
   "id": "16083da4-74e8-4672-91d4-b3ef3c1fcb52",
   "metadata": {},
   "outputs": [],
   "source": [
    "class Grandfather:\n",
    " \n",
    "    def __init__(self, grandfather_name):\n",
    "        self.grandfather_name = grandfather_name\n",
    "\n",
    "class Father(Grandfather):\n",
    "    def __init__(self, father_name, grandfather_name):\n",
    "        self.father_name = father_name\n",
    "        \n",
    "        Grandfather.__init__(self, grandfather_name)\n",
    "\n",
    "class Son(Father):\n",
    "    def __init__(self, son_name, father_name, grandfather_name):\n",
    "        self.son_name = son_name\n",
    "\n",
    "        Father.__init__(self, father_name, grandfather_name)\n",
    " \n",
    "    def print_name(self):\n",
    "        print('Grandfather name :', self.grandfather_name)\n",
    "        print(\"Father name :\", self.father_name)\n",
    "        print(\"Son name :\", self.son_name)"
   ]
  },
  {
   "cell_type": "code",
   "execution_count": 5,
   "id": "f069ef7d-838e-4f86-9723-bd377b945bc3",
   "metadata": {},
   "outputs": [
    {
     "name": "stdout",
     "output_type": "stream",
     "text": [
      "jodu\n",
      "Grandfather name : jodu\n",
      "Father name : sam\n",
      "Son name : ram\n"
     ]
    }
   ],
   "source": [
    "s1 = Son('ram', 'sam', 'jodu')\n",
    "print(s1.grandfather_name)\n",
    "s1.print_name()"
   ]
  },
  {
   "cell_type": "code",
   "execution_count": null,
   "id": "6be6ef3b-221d-42c5-894a-c488fae76b49",
   "metadata": {},
   "outputs": [],
   "source": [
    "# When more than one derived class are created from a single base this type of inheritance is called hierarchical inheritance. \n",
    "# In this program, we have a parent (base) class and two child (derived) classes."
   ]
  },
  {
   "cell_type": "code",
   "execution_count": 136,
   "id": "19dc6874-8321-4659-9f2f-4dd77f8496cc",
   "metadata": {},
   "outputs": [],
   "source": [
    "class Parent:\n",
    "    def func1(self):\n",
    "        print(\"This function is in parent class.\")\n",
    "\n",
    "class Child1(Parent):\n",
    "    def func2(self):\n",
    "        print(\"This function is in child 1.\")\n",
    "\n",
    "class Child2(Parent):\n",
    "    def func3(self):\n",
    "        print(\"This function is in child 2.\")"
   ]
  },
  {
   "cell_type": "code",
   "execution_count": 137,
   "id": "b35a06aa-149f-4f5b-857e-a2539103a813",
   "metadata": {},
   "outputs": [
    {
     "name": "stdout",
     "output_type": "stream",
     "text": [
      "This function is in parent class.\n",
      "This function is in child 1.\n",
      "This function is in parent class.\n",
      "This function is in child 2.\n"
     ]
    }
   ],
   "source": [
    "object1 = Child1()\n",
    "object2 = Child2()\n",
    "object1.func1()\n",
    "object1.func2()\n",
    "object2.func1()\n",
    "object2.func3()"
   ]
  },
  {
   "cell_type": "code",
   "execution_count": null,
   "id": "d08b242f-3fd7-4f24-b490-ef1cfe068772",
   "metadata": {},
   "outputs": [],
   "source": [
    "# Inheritance consisting of multiple types of inheritance is called hybrid inheritance."
   ]
  },
  {
   "cell_type": "code",
   "execution_count": 138,
   "id": "b1248780-38c6-4b64-b85f-2d84e5aad446",
   "metadata": {},
   "outputs": [
    {
     "name": "stdout",
     "output_type": "stream",
     "text": [
      "This function is in school.\n",
      "This function is in student 1. \n"
     ]
    }
   ],
   "source": [
    "class School:\n",
    "    def func1(self):\n",
    "        print(\"This function is in school.\")\n",
    "\n",
    "\n",
    "class Student1(School):\n",
    "    def func2(self):\n",
    "        print(\"This function is in student 1. \")\n",
    "\n",
    "\n",
    "class Student2(School):\n",
    "    def func3(self):\n",
    "        print(\"This function is in student 2.\")\n",
    "\n",
    "\n",
    "class Student3(Student1, School):\n",
    "    def func4(self):\n",
    "        print(\"This function is in student 3.\")\n",
    "\n",
    "object = Student3()\n",
    "object.func1()\n",
    "object.func2()"
   ]
  },
  {
   "cell_type": "code",
   "execution_count": null,
   "id": "690801ba-471f-4f84-8c0c-6c2a0458195c",
   "metadata": {},
   "outputs": [],
   "source": []
  },
  {
   "cell_type": "code",
   "execution_count": null,
   "id": "f611e4a4-03c0-47fc-90fb-a1a77538de08",
   "metadata": {},
   "outputs": [],
   "source": []
  }
 ],
 "metadata": {
  "kernelspec": {
   "display_name": "Python 3 (ipykernel)",
   "language": "python",
   "name": "python3"
  },
  "language_info": {
   "codemirror_mode": {
    "name": "ipython",
    "version": 3
   },
   "file_extension": ".py",
   "mimetype": "text/x-python",
   "name": "python",
   "nbconvert_exporter": "python",
   "pygments_lexer": "ipython3",
   "version": "3.10.8"
  }
 },
 "nbformat": 4,
 "nbformat_minor": 5
}
